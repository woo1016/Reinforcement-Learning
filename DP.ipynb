{
 "cells": [
  {
   "cell_type": "code",
   "id": "initial_id",
   "metadata": {
    "collapsed": true,
    "ExecuteTime": {
     "end_time": "2025-03-20T08:24:45.416043Z",
     "start_time": "2025-03-20T08:24:45.412365Z"
    }
   },
   "source": [
    "#두 칸짜리 그리드 월드 문제\n",
    "V = {'L1':0.0, 'L2':0.0} #초기값 설정\n",
    "new_V = V.copy()\n",
    "\n",
    "cnt = 0 #갱신 횟수 기록\n",
    "\n",
    "while True:\n",
    "    new_V['L1'] = 0.5 * (-1 + 0.9 * V['L1']) + 0.5 * (1 + 0.9 * V['L2'])\n",
    "    new_V['L2'] = 0.5 * (0 + 0.9 * V['L1']) + 0.5 * (-1 + 0.9 * V['L2'])\n",
    "\n",
    "    #갱신된 양의 최댓값\n",
    "    delta = abs(new_V['L1'] - V['L1'])\n",
    "    delta = max(delta, abs(new_V['L2'] - V['L2']))\n",
    "\n",
    "    V = new_V.copy()\n",
    "\n",
    "    cnt += 1\n",
    "\n",
    "    if delta < 0.0001: # 임계값 = 0.0001\n",
    "        print(V)\n",
    "        print('갱신횟수: ', cnt)\n",
    "        break"
   ],
   "outputs": [
    {
     "name": "stdout",
     "output_type": "stream",
     "text": [
      "{'L1': -2.249167525908671, 'L2': -2.749167525908671}\n",
      "갱신횟수:  76\n"
     ]
    }
   ],
   "execution_count": 2
  },
  {
   "metadata": {},
   "cell_type": "code",
   "outputs": [],
   "execution_count": null,
   "source": "",
   "id": "7316ff5bf4d032cd"
  }
 ],
 "metadata": {
  "kernelspec": {
   "display_name": "Python 3",
   "language": "python",
   "name": "python3"
  },
  "language_info": {
   "codemirror_mode": {
    "name": "ipython",
    "version": 2
   },
   "file_extension": ".py",
   "mimetype": "text/x-python",
   "name": "python",
   "nbconvert_exporter": "python",
   "pygments_lexer": "ipython2",
   "version": "2.7.6"
  }
 },
 "nbformat": 4,
 "nbformat_minor": 5
}
